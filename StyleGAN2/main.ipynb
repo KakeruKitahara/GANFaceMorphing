{
 "cells": [
  {
   "cell_type": "markdown",
   "id": "a785ee3c-72ce-4ef2-b6cd-6123a98674f2",
   "metadata": {
    "tags": []
   },
   "source": [
    "# StyleGAN2による表情モーフィング生成\n",
    "大まかな動作はStyleGAN1と同じなので詳しくはそちらの`main.ipynb`を参照すること．ここには動作手順だけを示す．"
   ]
  },
  {
   "cell_type": "markdown",
   "id": "ad1d438d-266a-4628-9da4-df7fe68c0f1b",
   "metadata": {},
   "source": [
    "## 1. 学習済みファイルをダウンロードをする．\n",
    "学習済みモデルpklファイル(`stylegan2-ffhq-config-f.pkl`, `vgg16_zhang_perceptual.pkl`)をダウンロードして，`networks`に配置する．**ffhq DL : https://drive.google.com/drive/folders/1yanUI9m4b4PWzR0eurKNq6JR1Bbfbh6L , vgg16 DL : https://drive.google.com/uc?id=1N2-m9qszOeVC9Tq77WxsLnuWwOedQiD2**"
   ]
  },
  {
   "cell_type": "markdown",
   "id": "9551db61-2ecd-43bf-9501-c9feb6fb4136",
   "metadata": {},
   "source": [
    "## (2, 3) : 顔画像の前準備．\n",
    "顔画像をstyleGAN1でのモーフィング生成同様にカラー化して中心位置に合わせる．詳細の処理はStyleGAN1のdockerコンテナ(ganmorph1)を作成して，そちらの`main.ipynb`の3, 4を参照する．\n",
    "それで生成した画像を`my/pic`でに配置する．フォルダ`my/pic`は自分で作成すること．"
   ]
  },
  {
   "cell_type": "markdown",
   "id": "ccd9e76c-1908-4e45-820c-cb78d11b23c2",
   "metadata": {},
   "source": [
    "## 4. 潜在変数化．\n",
    "npyファイルを作成．`my/vector`に保存される．"
   ]
  },
  {
   "cell_type": "code",
   "execution_count": 3,
   "id": "94af1fa2-5277-4c0c-8718-743fad23c489",
   "metadata": {},
   "outputs": [
    {
     "name": "stdout",
     "output_type": "stream",
     "text": [
      "python: can't open file 'search_latent.py': [Errno 2] No such file or directory\n"
     ]
    }
   ],
   "source": [
    "!python search_latent.py --iter 40000"
   ]
  },
  {
   "cell_type": "markdown",
   "id": "0a40889d-75d4-48eb-982c-581734e7fa97",
   "metadata": {},
   "source": [
    "## 5. 潜在変数からモーフィング生成\n",
    "連番pngを生成する．作成した連番画像は`my/`"
   ]
  },
  {
   "cell_type": "code",
   "execution_count": null,
   "id": "8546ce08-3709-43d2-84d1-8ac030718de1",
   "metadata": {},
   "outputs": [],
   "source": [
    "!python make_morph.py"
   ]
  },
  {
   "cell_type": "markdown",
   "id": "5bf2a88c-2e1e-402e-b695-4f9cf49b91f8",
   "metadata": {},
   "source": [
    "## (6.) pngをgifにする．"
   ]
  },
  {
   "cell_type": "code",
   "execution_count": null,
   "id": "3d4fa08c-eef6-4842-a649-497c4cf066ca",
   "metadata": {},
   "outputs": [],
   "source": [
    "!make_morphing.sh"
   ]
  }
 ],
 "metadata": {
  "kernelspec": {
   "display_name": "Python 3",
   "language": "python",
   "name": "python3"
  },
  "language_info": {
   "codemirror_mode": {
    "name": "ipython",
    "version": 3
   },
   "file_extension": ".py",
   "mimetype": "text/x-python",
   "name": "python",
   "nbconvert_exporter": "python",
   "pygments_lexer": "ipython3",
   "version": "3.6.9"
  }
 },
 "nbformat": 4,
 "nbformat_minor": 5
}
