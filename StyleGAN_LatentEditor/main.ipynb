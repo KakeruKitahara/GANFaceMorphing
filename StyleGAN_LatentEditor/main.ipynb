{
 "cells": [
  {
   "cell_type": "markdown",
   "id": "cae28b75-1981-4596-8643-b164acc1dabd",
   "metadata": {},
   "source": [
    "# StyleGAN1による表情モーフィング生成"
   ]
  },
  {
   "cell_type": "markdown",
   "id": "68a1d89f-b05e-41b6-b718-d533888f3244",
   "metadata": {
    "tags": []
   },
   "source": [
    "## 1. 学習済みモデルを配置する．\n",
    "学習済みモデルをpklファイルをダウンロードして，`weight_files/tensorflow/` に配置する．**DL : https://drive.google.com/uc?id=1MEGjdvVpUsu1jB4zrXZN7Y4kBBOzizDQ**"
   ]
  },
  {
   "cell_type": "markdown",
   "id": "a7d1f09e-06e5-4695-9df3-90171b725da4",
   "metadata": {},
   "source": [
    "## 2. tensorflowの重みをpytorch用に変換する．\n",
    "`eight_files/pytorch/` にptファイルが作成される．"
   ]
  },
  {
   "cell_type": "code",
   "execution_count": null,
   "id": "030aaacf-a965-4750-9957-fb236000447a",
   "metadata": {},
   "outputs": [],
   "source": [
    "!python weight_convert.py"
   ]
  },
  {
   "cell_type": "markdown",
   "id": "d421be6c-6dba-434c-adca-cf80c17092d8",
   "metadata": {},
   "source": [
    "## (3.) グレースケール画像をカラー化する．\n",
    "データベースから選んだ基本顔画像をカラー化する．カラーになるということではなくStyleGANがカラー対応であるための形式変換である．必要ない場合は飛ばしても良い．"
   ]
  },
  {
   "cell_type": "code",
   "execution_count": null,
   "id": "990425d4-0772-4c17-8ca1-10d58d4d604c",
   "metadata": {},
   "outputs": [],
   "source": [
    "!image_graytorgb.py /img /img_color"
   ]
  },
  {
   "cell_type": "markdown",
   "id": "600b4088-cf6b-411b-9c6b-816e7a9d9154",
   "metadata": {
    "tags": []
   },
   "source": [
    "## 4. 顔画像を中心に配置．\n",
    "基本顔画像において，顔が常に画像の中心に配置している保証はないので中心に配置させる．少しでも顔が中心でないと正しくファインチューニングできないので注意する必要がある．"
   ]
  },
  {
   "cell_type": "code",
   "execution_count": null,
   "id": "5f6d3e56-abdd-417b-aa50-be9a196b901d",
   "metadata": {},
   "outputs": [],
   "source": [
    "!align_images.py /img_color /al_img"
   ]
  },
  {
   "cell_type": "markdown",
   "id": "f79129de-4175-4be1-a2c4-0d558ac623a4",
   "metadata": {},
   "source": [
    "## 5. 学習済みモデルを用いて潜在変数を決定する．\n",
    "基本顔画像ごとにファインチューニングして潜在変数を決定する．出力ファイルはnpyというバイナリファイルになる．場所は`latent_W/`に保存される．"
   ]
  },
  {
   "cell_type": "code",
   "execution_count": null,
   "id": "35e34a89-b9f0-4459-bde8-2657816a11eb",
   "metadata": {},
   "outputs": [],
   "source": [
    "!encodeimage.sh"
   ]
  },
  {
   "cell_type": "markdown",
   "id": "60676f93-86ad-4882-94f5-928378072903",
   "metadata": {},
   "source": [
    "## 6. 表情モーフィングを生成する．\n",
    "表情変化を始める顔（始点顔）と表情変化した顔（終点顔）を決めて，先程作成したnpyファイルを用いてモーフィングをする．モーフィングは線形モーフィング $ I^M=\\alpha I^S+(1.0-\\alpha) I^T \\quad(0 \\leq \\alpha \\leq 1.0) $ ではあるが，$ I^S $，$ I^T $は単に画素値ではなく潜在変数であるこに留意する．以下は全通りの表情変化を作成する．場所は `morph_result/`に画像フォルダが保存される．"
   ]
  },
  {
   "cell_type": "code",
   "execution_count": null,
   "id": "0dc7a92b-cf10-4637-b73c-4a5a286ea2ad",
   "metadata": {},
   "outputs": [],
   "source": [
    "!image_morphing.sh"
   ]
  },
  {
   "cell_type": "markdown",
   "id": "9e7351fb-097d-45be-843f-dbfa64fde98c",
   "metadata": {},
   "source": [
    "## (7.) モーフィングをgifにする．\n",
    "上記では画像となっているので結合してgifに変換する．これはモーフィングが出来ているかを確認するものであり，表情弁別閾値楕円測定などでは不必要である．場所は `save_result/`に保存される．"
   ]
  },
  {
   "cell_type": "code",
   "execution_count": null,
   "id": "79ce5041-6d05-44db-ae9d-63b1e8d54f91",
   "metadata": {},
   "outputs": [],
   "source": [
    "!make_morphing.sh"
   ]
  }
 ],
 "metadata": {
  "kernelspec": {
   "display_name": "Python 3",
   "language": "python",
   "name": "python3"
  },
  "language_info": {
   "codemirror_mode": {
    "name": "ipython",
    "version": 3
   },
   "file_extension": ".py",
   "mimetype": "text/x-python",
   "name": "python",
   "nbconvert_exporter": "python",
   "pygments_lexer": "ipython3",
   "version": "3.6.9"
  }
 },
 "nbformat": 4,
 "nbformat_minor": 5
}
