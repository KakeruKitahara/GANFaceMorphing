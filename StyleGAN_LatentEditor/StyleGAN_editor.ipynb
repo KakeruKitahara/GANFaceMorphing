{
 "cells": [
  {
   "cell_type": "markdown",
   "metadata": {},
   "source": [
    "# (Run on the google colaboratory)Python3 ランタイムがGPUであることを確認"
   ]
  },
  {
   "cell_type": "code",
   "execution_count": 1,
   "metadata": {
    "colab": {
     "base_uri": "https://localhost:8080/",
     "height": 119
    },
    "colab_type": "code",
    "executionInfo": {
     "elapsed": 3828,
     "status": "ok",
     "timestamp": 1576909089739,
     "user": {
      "displayName": "pacific pacifina",
      "photoUrl": "",
      "userId": "10756285699450948021"
     },
     "user_tz": 300
    },
    "id": "2Rx1nR-JZnXh",
    "outputId": "b74947b1-01f5-4d6e-f841-91424b9656e5"
   },
   "outputs": [],
   "source": [
    "#!git clone https://github.com/pacifinapacific/StyleGAN_LatentEditor.git"
   ]
  },
  {
   "cell_type": "code",
   "execution_count": 2,
   "metadata": {
    "colab": {
     "base_uri": "https://localhost:8080/",
     "height": 34
    },
    "colab_type": "code",
    "executionInfo": {
     "elapsed": 577,
     "status": "ok",
     "timestamp": 1576909104553,
     "user": {
      "displayName": "pacific pacifina",
      "photoUrl": "",
      "userId": "10756285699450948021"
     },
     "user_tz": 300
    },
    "id": "AiYlTSBvGzix",
    "outputId": "42792aff-481b-451c-931e-ef9e73e12604"
   },
   "outputs": [],
   "source": [
    "#cd StyleGAN_LatentEditor/"
   ]
  },
  {
   "cell_type": "markdown",
   "metadata": {
    "colab_type": "text",
    "id": "rF7Ckku6KJwT"
   },
   "source": [
    "# 下のリンクから公式のStyleGANの学習済みモデルをダウンロードし,StyleGAN_LatentEditor/weight_files/tensorflow/ におく\n"
   ]
  },
  {
   "cell_type": "markdown",
   "metadata": {
    "colab_type": "text",
    "id": "YgszSqtTHQFS"
   },
   "source": [
    "# https://drive.google.com/uc?id=1MEGjdvVpUsu1jB4zrXZN7Y4kBBOzizDQ"
   ]
  },
  {
   "cell_type": "markdown",
   "metadata": {
    "colab": {},
    "colab_type": "code",
    "id": "dhnY60FbS0f2"
   },
   "source": [
    "#from google.colab import files　#upload \n",
    "#files.upload()"
   ]
  },
  {
   "cell_type": "code",
   "execution_count": 1,
   "metadata": {},
   "outputs": [
    {
     "name": "stdout",
     "output_type": "stream",
     "text": [
      "nvcc: NVIDIA (R) Cuda compiler driver\n",
      "Copyright (c) 2005-2018 NVIDIA Corporation\n",
      "Built on Sat_Aug_25_21:08:01_CDT_2018\n",
      "Cuda compilation tools, release 10.0, V10.0.130\n"
     ]
    }
   ],
   "source": [
    "!nvcc --version"
   ]
  },
  {
   "cell_type": "markdown",
   "metadata": {
    "colab_type": "text",
    "id": "eX0Y7lDXK0jc"
   },
   "source": [
    "# 以下のコードでtensorflowの重みをpytorch用に変換する weight_files/pytorch/に作成される"
   ]
  },
  {
   "cell_type": "code",
   "execution_count": 2,
   "metadata": {
    "colab": {
     "base_uri": "https://localhost:8080/",
     "height": 918
    },
    "colab_type": "code",
    "executionInfo": {
     "elapsed": 47185,
     "status": "ok",
     "timestamp": 1576915841349,
     "user": {
      "displayName": "pacific pacifina",
      "photoUrl": "",
      "userId": "10756285699450948021"
     },
     "user_tz": 300
    },
    "id": "GSrUTApxG3Bv",
    "outputId": "99fe9eb7-4cd3-47e1-e5ab-76b8be859915"
   },
   "outputs": [
    {
     "name": "stdout",
     "output_type": "stream",
     "text": [
      "/usr/local/lib/python3.6/dist-packages/tensorflow/python/framework/dtypes.py:516: FutureWarning: Passing (type, 1) or '1type' as a synonym of type is deprecated; in a future version of numpy, it will be understood as (type, (1,)) / '(1,)type'.\n",
      "  _np_qint8 = np.dtype([(\"qint8\", np.int8, 1)])\n",
      "/usr/local/lib/python3.6/dist-packages/tensorflow/python/framework/dtypes.py:517: FutureWarning: Passing (type, 1) or '1type' as a synonym of type is deprecated; in a future version of numpy, it will be understood as (type, (1,)) / '(1,)type'.\n",
      "  _np_quint8 = np.dtype([(\"quint8\", np.uint8, 1)])\n",
      "/usr/local/lib/python3.6/dist-packages/tensorflow/python/framework/dtypes.py:518: FutureWarning: Passing (type, 1) or '1type' as a synonym of type is deprecated; in a future version of numpy, it will be understood as (type, (1,)) / '(1,)type'.\n",
      "  _np_qint16 = np.dtype([(\"qint16\", np.int16, 1)])\n",
      "/usr/local/lib/python3.6/dist-packages/tensorflow/python/framework/dtypes.py:519: FutureWarning: Passing (type, 1) or '1type' as a synonym of type is deprecated; in a future version of numpy, it will be understood as (type, (1,)) / '(1,)type'.\n",
      "  _np_quint16 = np.dtype([(\"quint16\", np.uint16, 1)])\n",
      "/usr/local/lib/python3.6/dist-packages/tensorflow/python/framework/dtypes.py:520: FutureWarning: Passing (type, 1) or '1type' as a synonym of type is deprecated; in a future version of numpy, it will be understood as (type, (1,)) / '(1,)type'.\n",
      "  _np_qint32 = np.dtype([(\"qint32\", np.int32, 1)])\n",
      "/usr/local/lib/python3.6/dist-packages/tensorflow/python/framework/dtypes.py:525: FutureWarning: Passing (type, 1) or '1type' as a synonym of type is deprecated; in a future version of numpy, it will be understood as (type, (1,)) / '(1,)type'.\n",
      "  np_resource = np.dtype([(\"resource\", np.ubyte, 1)])\n",
      "/usr/local/lib/python3.6/dist-packages/tensorboard/compat/tensorflow_stub/dtypes.py:541: FutureWarning: Passing (type, 1) or '1type' as a synonym of type is deprecated; in a future version of numpy, it will be understood as (type, (1,)) / '(1,)type'.\n",
      "  _np_qint8 = np.dtype([(\"qint8\", np.int8, 1)])\n",
      "/usr/local/lib/python3.6/dist-packages/tensorboard/compat/tensorflow_stub/dtypes.py:542: FutureWarning: Passing (type, 1) or '1type' as a synonym of type is deprecated; in a future version of numpy, it will be understood as (type, (1,)) / '(1,)type'.\n",
      "  _np_quint8 = np.dtype([(\"quint8\", np.uint8, 1)])\n",
      "/usr/local/lib/python3.6/dist-packages/tensorboard/compat/tensorflow_stub/dtypes.py:543: FutureWarning: Passing (type, 1) or '1type' as a synonym of type is deprecated; in a future version of numpy, it will be understood as (type, (1,)) / '(1,)type'.\n",
      "  _np_qint16 = np.dtype([(\"qint16\", np.int16, 1)])\n",
      "/usr/local/lib/python3.6/dist-packages/tensorboard/compat/tensorflow_stub/dtypes.py:544: FutureWarning: Passing (type, 1) or '1type' as a synonym of type is deprecated; in a future version of numpy, it will be understood as (type, (1,)) / '(1,)type'.\n",
      "  _np_quint16 = np.dtype([(\"quint16\", np.uint16, 1)])\n",
      "/usr/local/lib/python3.6/dist-packages/tensorboard/compat/tensorflow_stub/dtypes.py:545: FutureWarning: Passing (type, 1) or '1type' as a synonym of type is deprecated; in a future version of numpy, it will be understood as (type, (1,)) / '(1,)type'.\n",
      "  _np_qint32 = np.dtype([(\"qint32\", np.int32, 1)])\n",
      "/usr/local/lib/python3.6/dist-packages/tensorboard/compat/tensorflow_stub/dtypes.py:550: FutureWarning: Passing (type, 1) or '1type' as a synonym of type is deprecated; in a future version of numpy, it will be understood as (type, (1,)) / '(1,)type'.\n",
      "  np_resource = np.dtype([(\"resource\", np.ubyte, 1)])\n",
      "WARNING:tensorflow:From /root/work/dnnlib/tflib/tfutil.py:34: The name tf.Dimension is deprecated. Please use tf.compat.v1.Dimension instead.\n",
      "\n",
      "WARNING:tensorflow:From /root/work/dnnlib/tflib/tfutil.py:74: The name tf.variable_scope is deprecated. Please use tf.compat.v1.variable_scope instead.\n",
      "\n",
      "WARNING:tensorflow:From /root/work/dnnlib/tflib/tfutil.py:128: The name tf.Session is deprecated. Please use tf.compat.v1.Session instead.\n",
      "\n",
      "WARNING:tensorflow:From /root/work/dnnlib/tflib/tfutil.py:97: The name tf.get_default_session is deprecated. Please use tf.compat.v1.get_default_session instead.\n",
      "\n",
      "WARNING:tensorflow:From /root/work/dnnlib/tflib/tfutil.py:109: The name tf.set_random_seed is deprecated. Please use tf.compat.v1.set_random_seed instead.\n",
      "\n",
      "2022-11-07 18:50:42.983375: W tensorflow/compiler/jit/mark_for_compilation_pass.cc:1412] (One-time warning): Not using XLA:CPU for cluster because envvar TF_XLA_FLAGS=--tf_xla_cpu_global_jit was not set.  If you want XLA:CPU, either set that envvar, or use experimental_jit_scope to enable XLA:CPU.  To confirm that XLA is active, pass --vmodule=xla_compilation_cache=1 (as a proper command-line flag, not via TF_XLA_FLAGS) or set the envvar XLA_FLAGS=--xla_hlo_profile.\n",
      "WARNING:tensorflow:From <string>:364: add_dispatch_support.<locals>.wrapper (from tensorflow.python.ops.array_ops) is deprecated and will be removed in a future version.\n",
      "Instructions for updating:\n",
      "Use tf.where in 2.0, which has the same broadcast rule as np.where\n",
      "sd only g_synthesis.blocks.8x8.conv0_up.intermediate.kernel torch.Size([1, 1, 3, 3])\n",
      "sd only g_synthesis.blocks.16x16.conv0_up.intermediate.kernel torch.Size([1, 1, 3, 3])\n",
      "sd only g_synthesis.blocks.32x32.conv0_up.intermediate.kernel torch.Size([1, 1, 3, 3])\n",
      "sd only g_synthesis.blocks.64x64.conv0_up.intermediate.kernel torch.Size([1, 1, 3, 3])\n",
      "sd only g_synthesis.blocks.128x128.conv0_up.intermediate.kernel torch.Size([1, 1, 3, 3])\n",
      "sd only g_synthesis.blocks.256x256.conv0_up.intermediate.kernel torch.Size([1, 1, 3, 3])\n",
      "sd only g_synthesis.blocks.512x512.conv0_up.intermediate.kernel torch.Size([1, 1, 3, 3])\n",
      "sd only g_synthesis.blocks.1024x1024.conv0_up.intermediate.kernel torch.Size([1, 1, 3, 3])\n",
      "sd only 1024x1024.blur.kernel torch.Size([1, 1, 3, 3])\n",
      "sd only 1024x1024.conv1_down.downscale.blur.kernel torch.Size([1, 1, 2, 2])\n",
      "sd only 512x512.blur.kernel torch.Size([1, 1, 3, 3])\n",
      "sd only 512x512.conv1_down.downscale.blur.kernel torch.Size([1, 1, 2, 2])\n",
      "sd only 256x256.blur.kernel torch.Size([1, 1, 3, 3])\n",
      "sd only 256x256.conv1_down.downscale.blur.kernel torch.Size([1, 1, 2, 2])\n",
      "sd only 128x128.blur.kernel torch.Size([1, 1, 3, 3])\n",
      "sd only 128x128.conv1_down.downscale.blur.kernel torch.Size([1, 1, 2, 2])\n",
      "sd only 64x64.blur.kernel torch.Size([1, 1, 3, 3])\n",
      "sd only 64x64.conv1_down.downscale.blur.kernel torch.Size([1, 1, 2, 2])\n",
      "sd only 32x32.blur.kernel torch.Size([1, 1, 3, 3])\n",
      "sd only 32x32.conv1_down.downscale.blur.kernel torch.Size([1, 1, 2, 2])\n",
      "sd only 16x16.blur.kernel torch.Size([1, 1, 3, 3])\n",
      "sd only 16x16.conv1_down.downscale.blur.kernel torch.Size([1, 1, 2, 2])\n",
      "sd only 8x8.blur.kernel torch.Size([1, 1, 3, 3])\n",
      "sd only 8x8.conv1_down.downscale.blur.kernel torch.Size([1, 1, 2, 2])\n"
     ]
    }
   ],
   "source": [
    "!python weight_convert.py"
   ]
  },
  {
   "cell_type": "markdown",
   "metadata": {
    "colab_type": "text",
    "id": "rhotVwqfLjao"
   },
   "source": [
    "# [1]潜在変数の推定(Abdal, R., Qin, Y., & Wonka, P. (2019). Image2StyleGAN: How to Embed Images Into the StyleGAN Latent Space?) latent_W/以下に推定された潜在変数が出力される"
   ]
  },
  {
   "cell_type": "code",
   "execution_count": 9,
   "metadata": {
    "colab": {},
    "colab_type": "code",
    "id": "Dd3jwLubg3ge"
   },
   "outputs": [
    {
     "name": "stdout",
     "output_type": "stream",
     "text": [
      "mkdir: cannot create directory ‘save_image’: File exists\n",
      "mkdir: cannot create directory ‘save_image/encode1’: File exists\n"
     ]
    }
   ],
   "source": [
    "!mkdir save_image\n",
    "!mkdir save_image/encode1"
   ]
  },
  {
   "cell_type": "code",
   "execution_count": 3,
   "metadata": {
    "colab": {
     "base_uri": "https://localhost:8080/",
     "height": 1000
    },
    "colab_type": "code",
    "executionInfo": {
     "elapsed": 151260,
     "status": "ok",
     "timestamp": 1576916127178,
     "user": {
      "displayName": "pacific pacifina",
      "photoUrl": "",
      "userId": "10756285699450948021"
     },
     "user_tz": 300
    },
    "id": "Mw5ZDAShLtl5",
    "outputId": "96f34f19-00a8-418d-e3cb-de3cc3d66cab"
   },
   "outputs": [
    {
     "name": "stdout",
     "output_type": "stream",
     "text": [
      "Traceback (most recent call last):\n",
      "  File \"encode_image.py\", line 96, in <module>\n",
      "    main()\n",
      "  File \"encode_image.py\", line 40, in main\n",
      "    img = image_reader(args.src_dir+args.src_im)  # (1,3,1024,1024) -1~1\n",
      "  File \"/root/work/read_image.py\", line 7, in image_reader\n",
      "    with open(img_path,\"rb\") as f: \n",
      "FileNotFoundError: [Errno 2] No such file or directory: 'source_image/sample.png'\n"
     ]
    }
   ],
   "source": [
    "!python encode_image.py   --src_im sample.png --iteration 500"
   ]
  },
  {
   "cell_type": "markdown",
   "metadata": {
    "colab_type": "text",
    "id": "Nlhm9BUWLy2J"
   },
   "source": [
    "# 推定された潜在変数を元にmorphingを行う\n",
    "morph_result/encode1 以下に出力画像\n"
   ]
  },
  {
   "cell_type": "code",
   "execution_count": 11,
   "metadata": {
    "colab": {},
    "colab_type": "code",
    "id": "fH8b83eRhbYh"
   },
   "outputs": [
    {
     "name": "stdout",
     "output_type": "stream",
     "text": [
      "mkdir: cannot create directory ‘morph_result’: File exists\n",
      "mkdir: cannot create directory ‘morph_result/encode1’: File exists\n"
     ]
    }
   ],
   "source": [
    "!mkdir morph_result\n",
    "!mkdir morph_result/encode1"
   ]
  },
  {
   "cell_type": "code",
   "execution_count": 12,
   "metadata": {
    "colab": {},
    "colab_type": "code",
    "id": "6Onh1edyMIVT"
   },
   "outputs": [
    {
     "name": "stdout",
     "output_type": "stream",
     "text": [
      "Traceback (most recent call last):\n",
      "  File \"image_morphing.py\", line 3, in <module>\n",
      "    import matplotlib.pyplot as plt\n",
      "  File \"/usr/local/lib/python3.8/dist-packages/matplotlib/__init__.py\", line 214, in <module>\n",
      "    _check_versions()\n",
      "  File \"/usr/local/lib/python3.8/dist-packages/matplotlib/__init__.py\", line 210, in _check_versions\n",
      "    raise ImportError(f\"Matplotlib requires {modname}>={minver}; \"\n",
      "ImportError: Matplotlib requires numpy>=1.19; you have 1.18.5\n"
     ]
    }
   ],
   "source": [
    "!python image_morphing.py --latent_file1 latent_W/0.npy --latent_file2 latent_W/sample.npy"
   ]
  },
  {
   "cell_type": "markdown",
   "metadata": {
    "colab_type": "text",
    "id": "NIEhWXw-MP3s"
   },
   "source": [
    "# morph画像をgifとして保存\n",
    "save_result以下にgif"
   ]
  },
  {
   "cell_type": "code",
   "execution_count": null,
   "metadata": {
    "colab": {},
    "colab_type": "code",
    "id": "2_wowlYziIYq"
   },
   "outputs": [],
   "source": [
    "!mkdir save_result"
   ]
  },
  {
   "cell_type": "code",
   "execution_count": null,
   "metadata": {
    "colab": {
     "base_uri": "https://localhost:8080/",
     "height": 54
    },
    "colab_type": "code",
    "executionInfo": {
     "elapsed": 7331,
     "status": "ok",
     "timestamp": 1576916275182,
     "user": {
      "displayName": "pacific pacifina",
      "photoUrl": "",
      "userId": "10756285699450948021"
     },
     "user_tz": 300
    },
    "id": "wj4gnA3EMyuS",
    "outputId": "7203fec9-102a-4b62-f3be-9f5ecc11f429"
   },
   "outputs": [],
   "source": [
    "!python make_morphgif.py"
   ]
  },
  {
   "cell_type": "markdown",
   "metadata": {
    "colab_type": "text",
    "id": "vnpyNU4NM2n7"
   },
   "source": [
    "# [2]Image Crossover(Abdal, R., Qin, Y., & Wonka, P. (2019). Image2StyleGAN++: How to Edit the Embedded Images? )\n",
    "save_image/crossover/以下に生成画像\n"
   ]
  },
  {
   "cell_type": "code",
   "execution_count": null,
   "metadata": {
    "colab": {},
    "colab_type": "code",
    "id": "vz2Z4qBpiS5f"
   },
   "outputs": [],
   "source": [
    "!mkdir save_image/crossover"
   ]
  },
  {
   "cell_type": "code",
   "execution_count": null,
   "metadata": {
    "colab": {
     "base_uri": "https://localhost:8080/",
     "height": 1000
    },
    "colab_type": "code",
    "executionInfo": {
     "elapsed": 449880,
     "status": "ok",
     "timestamp": 1576916773574,
     "user": {
      "displayName": "pacific pacifina",
      "photoUrl": "",
      "userId": "10756285699450948021"
     },
     "user_tz": 300
    },
    "id": "yL2T-rzNNJD1",
    "outputId": "c9b3f427-1854-4fc8-afff-8880a9e5f6df"
   },
   "outputs": [],
   "source": [
    "!python image_crossover.py --src_im1  source_image/joker.png --src_im2  source_image/0.png --mask source_image/Blur_mask.png --iteration 1500\n"
   ]
  },
  {
   "cell_type": "markdown",
   "metadata": {
    "colab_type": "text",
    "id": "hoy9xn_INcTu"
   },
   "source": [
    "# [3] 表情の変換 (Yang, C., Lim, S.-N., & Ai, F. (n.d.). Unconstrained Facial Expression Transfer using Style-based Generator)\n",
    "save_image/exchange/以下に生成画像\n"
   ]
  },
  {
   "cell_type": "code",
   "execution_count": null,
   "metadata": {
    "colab": {
     "base_uri": "https://localhost:8080/",
     "height": 34
    },
    "colab_type": "code",
    "executionInfo": {
     "elapsed": 6445,
     "status": "ok",
     "timestamp": 1576916917391,
     "user": {
      "displayName": "pacific pacifina",
      "photoUrl": "",
      "userId": "10756285699450948021"
     },
     "user_tz": 300
    },
    "id": "akn_RL8EkMcq",
    "outputId": "d36ba643-93f8-4337-e393-a87efa68b75b"
   },
   "outputs": [],
   "source": [
    "!mkdir save_image/exchange\n",
    "!mkdir save_image/exchange/a\n",
    "!mkdir save_image/exchange/e\n",
    "!mkdir save_image/exchange/result1\n",
    "!mkdir save_image/exchange/result2"
   ]
  },
  {
   "cell_type": "code",
   "execution_count": null,
   "metadata": {
    "colab": {
     "base_uri": "https://localhost:8080/",
     "height": 1000
    },
    "colab_type": "code",
    "executionInfo": {
     "elapsed": 243671,
     "status": "ok",
     "timestamp": 1576917193440,
     "user": {
      "displayName": "pacific pacifina",
      "photoUrl": "",
      "userId": "10756285699450948021"
     },
     "user_tz": 300
    },
    "id": "-PB_LOIROC5M",
    "outputId": "620f1316-29fd-4501-f35a-c8f8caf7737b"
   },
   "outputs": [],
   "source": [
    "!python facial_exchange.py --src_im1  source_image/sample.png --src_im2  source_image/0.png  --iteration 200"
   ]
  },
  {
   "cell_type": "markdown",
   "metadata": {
    "colab_type": "text",
    "id": "TJEkDZ18OMVB"
   },
   "source": [
    "# [4] 顔属性のmorphing(Shen, Y., Gu, J., Tang, X., & Zhou, B. (2019).Interpreting the Latent Space of GANs for Semantic Face Editing)\n"
   ]
  },
  {
   "cell_type": "markdown",
   "metadata": {},
   "source": [
    "論文著者のgithubページからboundariesディレクトリをダウンロードしてStyleGAN_LatentEditor/ 以下に置く https://github.com/ShenYujun/InterFaceGAN"
   ]
  },
  {
   "cell_type": "markdown",
   "metadata": {},
   "source": [
    "save_image/boundary/以下に生成画像"
   ]
  },
  {
   "cell_type": "code",
   "execution_count": null,
   "metadata": {
    "colab": {},
    "colab_type": "code",
    "id": "9sDZz6BCOscs"
   },
   "outputs": [],
   "source": [
    "!mkdir save_image/boundary "
   ]
  },
  {
   "cell_type": "code",
   "execution_count": null,
   "metadata": {
    "colab": {},
    "colab_type": "code",
    "id": "JU6hXrrRmFA4"
   },
   "outputs": [],
   "source": [
    "!python semantic_edit.py --latent_file  latent_W/0.npy"
   ]
  },
  {
   "cell_type": "markdown",
   "metadata": {
    "colab_type": "text",
    "id": "b4ZCTqR5ngG2"
   },
   "source": [
    "# [5]自前で用意した画像で試したい方へ"
   ]
  },
  {
   "cell_type": "code",
   "execution_count": 8,
   "metadata": {
    "colab": {},
    "colab_type": "code",
    "id": "xmRsjATvok4y"
   },
   "outputs": [
    {
     "name": "stdout",
     "output_type": "stream",
     "text": [
      "mkdir: cannot create directory ‘img’: File exists\n",
      "mkdir: cannot create directory ‘al_img’: File exists\n"
     ]
    }
   ],
   "source": [
    "!mkdir img\n",
    "!mkdir al_img"
   ]
  },
  {
   "cell_type": "markdown",
   "metadata": {
    "colab_type": "text",
    "id": "5VA3Y6jMnqqa"
   },
   "source": [
    "# 入力画像を1024×1024にリサイズしかつalignする必要があります\n",
    "以下のセルでdlibを用いてそれを実行します。\n",
    "imgディレクトリに用意した画像を置きコードを実行するとal_img内にalignされた画像が置かれます。後はsource_imageディレクトリに移して各セルの引数を変更してください"
   ]
  },
  {
   "cell_type": "code",
   "execution_count": null,
   "metadata": {
    "colab": {
     "base_uri": "https://localhost:8080/",
     "height": 68
    },
    "colab_type": "code",
    "executionInfo": {
     "elapsed": 16159,
     "status": "ok",
     "timestamp": 1576918270889,
     "user": {
      "displayName": "pacific pacifina",
      "photoUrl": "",
      "userId": "10756285699450948021"
     },
     "user_tz": 300
    },
    "id": "PUOz8gLinWOm",
    "outputId": "227f90ec-c8fc-4c84-fae5-9522e43c4ea9"
   },
   "outputs": [],
   "source": [
    "!python align_images.py img/ al_img/"
   ]
  }
 ],
 "metadata": {
  "accelerator": "GPU",
  "colab": {
   "collapsed_sections": [],
   "name": "StyleGAN_editor.ipynb",
   "provenance": []
  },
  "kernelspec": {
   "display_name": "Python 3",
   "language": "python",
   "name": "python3"
  },
  "language_info": {
   "codemirror_mode": {
    "name": "ipython",
    "version": 3
   },
   "file_extension": ".py",
   "mimetype": "text/x-python",
   "name": "python",
   "nbconvert_exporter": "python",
   "pygments_lexer": "ipython3",
   "version": "3.6.9"
  }
 },
 "nbformat": 4,
 "nbformat_minor": 4
}
